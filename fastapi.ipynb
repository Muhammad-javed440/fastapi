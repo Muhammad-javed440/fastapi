{
 "cells": [
  {
   "cell_type": "markdown",
   "metadata": {},
   "source": [
    "# 1- python -m venv ./venv-fastapi      To create python environment \n",
    "# 2- .\\venv-fastapi\\scripts\\activate    To activate python environment\n",
    "# 3- pip install fastapi                To install fastapi \n",
    "# 4- pip install --upgrade pip                 To update pip \n",
    "# 5- pip install \"uvicorn[standard]\"                    To install uvicorn"
   ]
  }
 ],
 "metadata": {
  "kernelspec": {
   "display_name": "venv-fastapi",
   "language": "python",
   "name": "python3"
  },
  "language_info": {
   "name": "python",
   "version": "3.13.0"
  }
 },
 "nbformat": 4,
 "nbformat_minor": 2
}
